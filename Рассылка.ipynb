{
  "nbformat": 4,
  "nbformat_minor": 0,
  "metadata": {
    "colab": {
      "name": "Рассылка.ipynb",
      "provenance": [],
      "collapsed_sections": []
    },
    "kernelspec": {
      "name": "python390jvsc74a57bd0ac59ebe37160ed0dfa835113d9b8498d9f09ceb179beaac4002f036b9467c963",
      "display_name": "Python 3.9.0 64-bit"
    },
    "metadata": {
      "interpreter": {
        "hash": "ac59ebe37160ed0dfa835113d9b8498d9f09ceb179beaac4002f036b9467c963"
      }
    }
  },
  "cells": [
    {
      "source": [
        "# Скрипт для массовой рассылки"
      ],
      "cell_type": "markdown",
      "metadata": {}
    },
    {
      "cell_type": "code",
      "metadata": {
        "id": "ILp3Oy9LoNjU"
      },
      "source": [
        "!pip install pytils\n",
        "import os\n",
        "import pytils\n",
        "import pandas as pd\n",
        "import smtplib\n",
        "from email.mime.application import MIMEApplication\n",
        "from email.mime.multipart import MIMEMultipart\n",
        "from email.mime.text import MIMEText"
      ],
      "execution_count": null,
      "outputs": []
    },
    {
      "source": [
        "## Парсинг анкет"
      ],
      "cell_type": "markdown",
      "metadata": {}
    },
    {
      "cell_type": "code",
      "metadata": {
        "id": "rEFGKip7q8xd"
      },
      "source": [
        "anketa = pd.read_excel(\"Robohack.xlsx\")\n",
        "emails = anketa[\"Электронная почта наставника\"].tolist()\n",
        "teams = anketa[\"Назание команды\"].tolist()\n",
        "print(teams)"
      ],
      "execution_count": null,
      "outputs": []
    },
    {
      "cell_type": "code",
      "execution_count": null,
      "metadata": {},
      "outputs": [],
      "source": [
        "body = '''<div\n",
        "  style=\"\n",
        "    font-size: 20px;\n",
        "    font-family: 'Montserrat','Roboto', 'Open Sans', sans-serif;\n",
        "    color: #333333 !important;\n",
        "    line-height: 30px;\n",
        "    text-align: center;\n",
        "    \"\n",
        ">\n",
        "  <p>\n",
        "    Добрый день! \n",
        "    </br>\n",
        "  Поздравляем вашу команду \n",
        "  <strong>%s</strong>\n",
        "  с победой во втором Всероссийском конкурсе \"Робохакатон\"!\n",
        "    </br>\n",
        "  Желаем дальнейших успехов, новых свершений и удачи!\n",
        "  Высылаем дипломы во вложении.\n",
        "  </p>\n",
        "</div>\n",
        "'''"
      ]
    },
    {
      "source": [
        "## Создание писем"
      ],
      "cell_type": "markdown",
      "metadata": {}
    },
    {
      "cell_type": "code",
      "execution_count": null,
      "metadata": {},
      "outputs": [],
      "source": [
        "addr_to   = \"yuliya.sm7@gmail.com\"                      # Получатель\n",
        "addr_from = \"robobobrik@yandex.ru\"                      # Адресат\n",
        "messages = []\n",
        "i = 0\n",
        "for mail in emails:\n",
        "    msg = MIMEMultipart()                               # Создаем сообщение\n",
        "    msg['From']    = addr_from                          # Адресат\n",
        "    msg['To']      = addr_to #mail                            # Получатель\n",
        "    msg['Subject'] = 'Тестирование'                   # Тема сообщения\n",
        "    msg.attach(MIMEText(body % (teams[i]), 'html'))                  # Добавляем в сообщение текст\n",
        "    messages.append(msg)\n",
        "    i += 1"
      ]
    },
    {
      "cell_type": "code",
      "execution_count": null,
      "metadata": {},
      "outputs": [],
      "source": [
        "directory=r'.\\Победители'\n",
        "i = 0\n",
        "n = 0\n",
        "for filename in os.listdir(directory):\n",
        "    if filename.endswith(\".pdf\"):\n",
        "        fp=open(directory + \"\\\\\" + filename,'rb')\n",
        "        att = MIMEApplication(fp.read(),_subtype=\"pdf\")\n",
        "        fp.close()\n",
        "        att.add_header('Content-Disposition','attachment',filename=teams[i]+\".pdf\")\n",
        "        messages[i].attach(att)\n",
        "        i += 1\n",
        "        n += 1"
      ]
    },
    {
      "source": [
        "## Отправка писем"
      ],
      "cell_type": "markdown",
      "metadata": {}
    },
    {
      "cell_type": "code",
      "execution_count": null,
      "metadata": {
        "tags": []
      },
      "outputs": [],
      "source": [
        "smtp_server = 'smtp.yandex.ru:465'\n",
        "password  = \"\"                      # Пароль\n",
        "server = smtplib.SMTP_SSL(smtp_server)              # Создаем объект SMTP\n",
        "# server.set_debuglevel(True)                       # Включаем режим отладки\n",
        "server.login(addr_from, password)                   # Получаем доступ\n",
        "for i in range(n):\n",
        "    server.send_message(messages[i])                            # Отправляем сообщение\n",
        "server.quit()                                       # Выходим"
      ]
    },
    {
      "cell_type": "code",
      "execution_count": null,
      "metadata": {},
      "outputs": [],
      "source": []
    }
  ]
}