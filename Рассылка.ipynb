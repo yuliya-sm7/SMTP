{
  "nbformat": 4,
  "nbformat_minor": 0,
  "metadata": {
    "colab": {
      "name": "Рассылка.ipynb",
      "provenance": [],
      "collapsed_sections": []
    },
    "kernelspec": {
      "name": "python3",
      "display_name": "Python 3"
    }
  },
  "cells": [
    {
      "cell_type": "code",
      "metadata": {
        "id": "ILp3Oy9LoNjU"
      },
      "source": [
        "# Подготовка\n",
        "from google.colab import drive\n",
        "drive.mount('/content/gdrive')\n",
        "path = \"gdrive/My Drive/Colab Notebooks/\"\n",
        "!pip install pytils\n",
        "import pytils\n",
        "import difflib\n",
        "import pandas as pd\n",
        "import smtplib\n",
        "from email.mime.multipart import MIMEMultipart\n",
        "from email.mime.text import MIMEText\n",
        "from email.mime.image import MIMEImage"
      ],
      "execution_count": null,
      "outputs": []
    },
    {
      "cell_type": "code",
      "metadata": {
        "id": "nI07RrVxnAuR"
      },
      "source": [
        "# Парсинг аккаунтов робо\n",
        "accounts = dict()\n",
        "accounts[\"\"] = \"\"\n",
        "with open(path + \"mailboxes.txt\") as file_handler:\n",
        "      for line in file_handler:\n",
        "        if line.find('@') != -1:\n",
        "          login = line.rstrip()\n",
        "          password = next(file_handler,None).rstrip()\n",
        "          accounts[login] = password\n",
        "# print(accounts)"
      ],
      "execution_count": null,
      "outputs": []
    },
    {
      "cell_type": "code",
      "metadata": {
        "id": "rEFGKip7q8xd"
      },
      "source": [
        "# Парсинг анкет\n",
        "people = dict()\n",
        "anketa = pd.read_excel(path + \"Anketa.xlsx\")\n",
        "family = anketa[\"Фамилия\"].tolist()\n",
        "for man in family:\n",
        "  id = family.index(man)\n",
        "  mail = anketa[\"Адрес электронной почты\"].values[id]\n",
        "  people[mail] = man"
      ],
      "execution_count": null,
      "outputs": []
    },
    {
      "cell_type": "code",
      "metadata": {
        "id": "4yyySMu02V6j",
        "colab": {
          "base_uri": "https://localhost:8080/",
          "height": 54
        },
        "outputId": "a953a52e-f33d-4c7b-8cec-41b0578385aa"
      },
      "source": [
        "# Объединение\n",
        "distribution_list = list()\n",
        "for mail in people:  \n",
        "  man = people[mail]\n",
        "  translite = pytils.translit.translify(man).lower().replace(\"'\", \"\")\n",
        "  same = difflib.get_close_matches(translite, accounts.keys(), 1, 0.32)\n",
        "  roboMail = same[0] if same else \"\"\n",
        "  distribution_list.append([man, mail, roboMail, accounts[roboMail]])\n",
        "  \n",
        "print(distribution_list)\n",
        "dfs = pd.DataFrame(distribution_list)\n",
        "dfs.to_excel(path+\"acc.xlsx\", index=False)"
      ],
      "execution_count": null,
      "outputs": [
        {
          "output_type": "stream",
          "text": [
            "[['Федулеев', 'fedalal@gmail.com', '', ''], ['Степанов', 'st.d.i@mail.ru', 'stepanov@robokvantum.ru', 'ONA745%s'], ['Мишина', 'tanyxa.mishina@yandex.ru', 'mishina@robokvantum.ru', 'NIH042#a'], ['Пономарев', 'ponomarev@kvantorium33.ru', 'ponomarev@robokvantum.ru', 'REM175#p'], ['Зыков', 'j15home@mail.ru', 'zykov@robokvantum.ru', 'VOK284%z'], ['Крылов', 'vvinsont@gmail.com', 'krylov@robokvantum.ru', 'OLY285#d'], ['Горкунов', 'gorkunov@mail.ru', 'gorkunov@robokvantum.ru', 'ONU240%m'], ['БАХМУДОВ', 'myslim1997@mail.ru', 'bahmudov@robokvantum.ru', 'DUM%237k'], ['Косцюкевич', 'lol.milana@icloud.com', '', ''], ['Максутов', 'variatorrr@gmail.com', 'maksutov@robokvantum.ru', 'TUS%096j'], ['Вайцель', 'd.vay.98@mail.ru', 'vaitsel@robokvantum.ru', 'IEW#962h'], ['Симоненко', 'simon1975@ya.ru', 'simonenko@robokvantum.ru', 'KNO%294f'], ['Твердохлебов', 'sergey_t96@bk.ru', 'tverdohlebov@robokvantum.ru', 'BEL#193r'], ['Чумаков', 'chda1991@yandex.ru', 'chumakov@robokvantum.ru', 'KAM284%l'], ['Ибрагимов', 'salam.ibragim@mail.ru', 'ibragimov@robokvantum.ru', 'OMI#235x'], ['Пустозеров', 'alexander.16nk@gmail.com', 'pustozerov@robokvantum.ru', 'REZ%853z'], ['Стрыгин', 'ig.strigin@gmail.com', 'strygin@robokvantum.ru', 'IGY#249n'], ['Коршунов', 'korsh624@gmail.com', 'korshunov@robokvantum.ru', 'ONU%250d'], ['Попова', 'popova_anastasiya_1993@mail.ru', 'popova@robokvantum.ru', 'VOP#834g'], ['Баганина', 'a.baganina@mail.ru', 'baganina@robokvantum.ru', 'INA%752j'], ['Тетерятников', 'mr.pioner30@gmail.com', 'teteryatnikov@robokvantum.ru', 'TAY#075v'], ['Петрова ', 'volgaolya@yandex.ru', 'petrova@robokvantum.ru', 'ORT%863m'], ['Рыжов', 'mrizhoff@gmail.com', 'ryzhov@robokvantum.ru', 'OHZ#630q'], ['Чашина', 'nnc111@yandex.ru', 'chashina@robokvantum.ru', 'IHS%632p'], ['Онянова', 'buskina_nastia@mail.ru', 'onyanova@robokvantum.ru', 'NAY#062i'], ['Черевач ', 'aleks.che2017@yandex.ru', 'cherevach@robokvantum.ru', 'HCA%086t'], ['Ефимкина ', 'natashonok1504@gmail.com', 'efimkina@robokvantum.ru', 'IKM#091u'], ['Тимохина ', 'fox.eliztim@gmail.com', 'timohina@robokvantum.ru', 'IHO%021o'], ['Жуковский', 'w-nice-p@ya.ru', 'zhukovskij@robokvantum.ru', 'JSV#369y'], ['Дробышева', 'ozerova-varvara@mail.ru', 'drobysheva@robokvantum.ru', 'EHS%926r'], ['Лубягин', 'iol96@mail.ru', 'lubyagin@robokvantum.ru', 'IGA#853b'], ['Грушко', 'thekidsshow96@gmail.com', 'grushko@robokvantum.ru', 'KHS%698c'], ['Риверс', 'laycray@mail.ru', 'rivers@robokvantum.ru', 'EVI#509l'], ['Самарцев', 'av@zrec.ru', 'samarcev@robokvantum.ru', 'ECR%576z'], ['Башкирова', 'margaritka2-2@mail.ru', 'bashkirova@robokvantum.ru', 'ORI#234t'], ['Колядин', 'kolyadinvladimir065@gmail.com', 'kolyadin@robokvantum.ru', 'DAY%294y'], ['Никанова', 'nikanova719@gmail.com', 'nikanova@robokvantum.ru', 'NAK#158u'], ['Адаменко', 'zell.ru@yandex.ru', 'adamenko@robokvantum.ru', 'EMA%129p'], ['Копычев', 'mkopychev@gmail.com', 'kopychev@robokvantum.ru', 'CYP#179s'], ['Игнеева', 'igneyeva@mail.ru', 'igneeva@robokvantum.ru', 'ENG%146a'], ['Матвеева', 'lovelt@mail.ru', 'matveeva@robokvantum.ru', 'EVT#109q'], ['Саблинский', 's_a_i@mail.ru', 'sablinskij@robokvantum.ru', 'JNI%474j'], ['Липаев', 'sergey@kvantorium69.ru', 'lipaev@robokvantum.ru', 'API#547g'], ['Кузьмин', 'mikhail@kvantorium69.ru', 'kuzmin@robokvantum.ru', 'MZU%378w'], ['Чиглинцев', 'aleksandr.chiglintcev@gmail.com', 'chiglincev@robokvantum.ru', 'NIL%202c'], ['Земнухов', 'zemnuhov2405@gmail.com', 'zemnuhov@robokvantum.ru', 'UNM#203f'], ['Леонтьев ', 'vladimir-leontev@lenta.ru', 'leontev@robokvantum.ru', 'NOE%307r'], ['Татаренкова', 'stregoicaelena@gmail.com', 'tatarenkova@robokvantum.ru', 'OKN#145w'], ['Смирнов', '162691@gmail.com', 'smirnov@robokvantum.ru', 'NRI%155e'], ['Дампилова', 'damdina81@mail.ru', 'dampilova@robokvantum.ru', 'IPM#167e'], ['Бараева', 'ddbaraeva@gmail.com', 'baraeva@robokvantum.ru', 'EAR#475j'], ['Королев ', 'rosebud0@ya.ru', 'korolev@robokvantum.ru', 'ORO%589g'], ['Ваганов', 'shi-ni-gami@mail.ru', 'vaganov@robokvantum.ru', 'NAG#512f'], ['Банников', 'lpfan68@gmail.com', 'bannikov@robokvantum.ru', 'OKI%514d'], ['Гришин', 'rutub95@mail.ru', 'grishin@robokvantum.ru', 'IIR#523o'], ['Будаева', 'dsdb@mail.ru', 'budaeva@robokvantum.ru', 'EAD%525r'], ['Тамилина', 'twt053@gmail.com', 'tamilina@robokvantum.ru', 'LII#519s'], ['Сапичев', 'diegbi493@gmail.com', 'sapichev@robokvantum.ru', 'IPA%902d'], ['Силькунов', 'silkunov33@mail.ru', 'silkunov@robokvantum.ru', 'UKL#839g'], ['Россолов', 'rrossolov@bk.ru', 'rossolov@robokvantum.ru', 'OOS370#t'], ['Зайцев ', 'zaytsev_yrui@mail.ru', 'zajcev@robokvantum.ru', 'JCA810%m'], ['Сысолятин', 'alex@kvantorium.ru', 'sysolyatin@robokvantum.ru', 'ITA857#z'], ['Макаревич ', 'albina_5@mail.ru', 'makarevich@robokvantum.ru', 'IVE947%y'], ['Глазкова', 'oxana.glazkova24@yandex.ru', 'glazkova@robokvantum.ru', 'OKZ975#q'], ['Брусов', 'denisb101@mail.ru', 'brusov@robokvantum.ru', 'OSU930%h'], ['Пикалов', 'pikalov88-1988@mail.ru', 'pikalov@robokvantum.ru', 'OLA833#f'], ['Лицуков', 'r.litsukov@kvant43.ru', 'licukov@robokvantum.ru', 'KUC862%g'], ['Тендит ', 'tendittn@mail.ru', 'tendit@robokvantum.ru', 'IDN781#w'], ['Башковский', 'sashka446@gmail.com', 'bashkovskij@robokvantum.ru', 'KSV763%e'], ['Клейнос', 'maxsim.5@yandex.ru', 'klejnos@robokvantum.ru', 'JEL712#f'], ['Пунегов', 'mixxail93@gmail.com', 'punegov@robokvantum.ru', 'OGE%793d'], ['Зиганшин', 'adm@servobot.ru', 'ziganshin@robokvantum.ru', 'SNA#751s'], ['Мазнин', 'd.maznin@gmail.com', 'maznin@robokvantum.ru', 'NZA%765n'], ['Яхьяев', 'deni_grozny@mail.ru', 'yahyaev@robokvantum.ru', 'EAY#632m'], ['Добринский', 'genek90@bk.ru', 'dobrinskij@robokvantum.ru', 'SNI%027p'], ['Касап', 'bigscal25@gmail.com', 'kasap@robokvantum.ru', 'AAS#086j']]\n"
          ],
          "name": "stdout"
        }
      ]
    },
    {
      "cell_type": "code",
      "metadata": {
        "id": "y30RLpOlP46B",
        "colab": {
          "base_uri": "https://localhost:8080/",
          "height": 591
        },
        "outputId": "197cf675-f1f5-4548-a895-c7e022d205be"
      },
      "source": [
        "addr_from = \"robo@roskvantorium.ru\"                 # Адресат\n",
        "addr_to   = \"yuliya.sm7@gmail@com\"                  # Получатель\n",
        "password  = \"roboKv@nt\"                             # Пароль\n",
        "smtp_server = 'mail.roskvantorium.ru'\n",
        "\n",
        "msg = MIMEMultipart()                               # Создаем сообщение\n",
        "msg['From']    = addr_from                          # Адресат\n",
        "msg['To']      = addr_to                            # Получатель\n",
        "msg['Subject'] = 'Тестирование'                   # Тема сообщения\n",
        "\n",
        "body = '<div style=\"font-size: 20px; font-family: Arial,Tahoma,Verdana,sans-serif; color: #333333!important; line-height: 30px; text-align: center;\"><p>Добрый день! Вам предоставлен доступ к корпоративной почте сети детских технопарков \"Кванториум\". Для подтверждения необходимо:</p><p>1. Перейти по адресу&nbsp;<a href=\"https://mail.roskvantorium.ru/\">https://mail.roskvantorium.ru</a></p><p>2. Ввести личные учетные данные, указанные ниже:</p><p>Логин: <strong>%s</strong></p><p>Пароль: <strong>%s</strong></p><p>3. Создать новое сообщение с любым текстом и отправить его по адресу&nbsp;<a href=\"mailto:robo@roskvantorium.ru\">robo@roskvantorium.ru</a>&nbsp;с темой \"Тест\"</p></div>' % (distribution_list[10][2], distribution_list[10][3])\n",
        "msg.attach(MIMEText(body, 'html'))                 # Добавляем в сообщение текст\n",
        "\n",
        "server = smtplib.SMTP_SSL(smtp_server)           # Создаем объект SMTP\n",
        "server.set_debuglevel(True)                         # Включаем режим отладки - если отчет не нужен, строку можно закомментировать\n",
        "server.login(addr_from, password)                   # Получаем доступ\n",
        "server.send_message(msg)                            # Отправляем сообщение\n",
        "server.quit()                                       # Выходим"
      ],
      "execution_count": null,
      "outputs": [
        {
          "output_type": "stream",
          "text": [
            "send: 'ehlo [172.28.0.2]\\r\\n'\n",
            "reply: b'250-mail.roskvantorium.ru\\r\\n'\n",
            "reply: b'250-PIPELINING\\r\\n'\n",
            "reply: b'250-SIZE 41943040\\r\\n'\n",
            "reply: b'250-VRFY\\r\\n'\n",
            "reply: b'250-ETRN\\r\\n'\n",
            "reply: b'250-AUTH LOGIN PLAIN\\r\\n'\n",
            "reply: b'250-AUTH=LOGIN PLAIN\\r\\n'\n",
            "reply: b'250-ENHANCEDSTATUSCODES\\r\\n'\n",
            "reply: b'250-8BITMIME\\r\\n'\n",
            "reply: b'250 DSN\\r\\n'\n",
            "reply: retcode (250); Msg: b'mail.roskvantorium.ru\\nPIPELINING\\nSIZE 41943040\\nVRFY\\nETRN\\nAUTH LOGIN PLAIN\\nAUTH=LOGIN PLAIN\\nENHANCEDSTATUSCODES\\n8BITMIME\\nDSN'\n",
            "send: 'AUTH PLAIN AHJvYm9Acm9za3ZhbnRvcml1bS5ydQByb2JvS3ZAbnQ=\\r\\n'\n",
            "reply: b'235 2.7.0 Authentication successful\\r\\n'\n",
            "reply: retcode (235); Msg: b'2.7.0 Authentication successful'\n",
            "send: 'mail FROM:<robo@roskvantorium.ru> size=1684\\r\\n'\n",
            "reply: b'250 2.1.0 Ok\\r\\n'\n",
            "reply: retcode (250); Msg: b'2.1.0 Ok'\n",
            "send: 'rcpt TO:<smirnova@roskvantorium.ru>\\r\\n'\n",
            "reply: b'250 2.1.5 Ok\\r\\n'\n",
            "reply: retcode (250); Msg: b'2.1.5 Ok'\n",
            "send: 'data\\r\\n'\n",
            "reply: b'354 End data with <CR><LF>.<CR><LF>\\r\\n'\n",
            "reply: retcode (354); Msg: b'End data with <CR><LF>.<CR><LF>'\n",
            "data: (354, b'End data with <CR><LF>.<CR><LF>')\n",
            "send: b'Content-Type: multipart/mixed; boundary=\"===============4378817451775138699==\"\\r\\nMIME-Version: 1.0\\r\\nFrom: robo@roskvantorium.ru\\r\\nTo: smirnova@roskvantorium.ru\\r\\nSubject: =?utf-8?b?0KLQtdGB0YLQuNGA0L7QstCw0L3QuNC1?=\\r\\n\\r\\n--===============4378817451775138699==\\r\\nContent-Type: text/html; charset=\"utf-8\"\\r\\nMIME-Version: 1.0\\r\\nContent-Transfer-Encoding: base64\\r\\n\\r\\nPGRpdiBzdHlsZT0iZm9udC1zaXplOiAyMHB4OyBmb250LWZhbWlseTogQXJpYWwsVGFob21hLFZl\\r\\ncmRhbmEsc2Fucy1zZXJpZjsgY29sb3I6ICMzMzMzMzMhaW1wb3J0YW50OyBsaW5lLWhlaWdodDog\\r\\nMzBweDsgdGV4dC1hbGlnbjogY2VudGVyOyI+PHA+0JTQvtCx0YDRi9C5INC00LXQvdGMISDQktCw\\r\\n0Lwg0L/RgNC10LTQvtGB0YLQsNCy0LvQtdC9INC00L7RgdGC0YPQvyDQuiDQutC+0YDQv9C+0YDQ\\r\\nsNGC0LjQstC90L7QuSDQv9C+0YfRgtC1INGB0LXRgtC4INC00LXRgtGB0LrQuNGFINGC0LXRhdC9\\r\\n0L7Qv9Cw0YDQutC+0LIgItCa0LLQsNC90YLQvtGA0LjRg9C8Ii4g0JTQu9GPINC/0L7QtNGC0LLQ\\r\\ntdGA0LbQtNC10L3QuNGPINC90LXQvtCx0YXQvtC00LjQvNC+OjwvcD48cD4xLiDQn9C10YDQtdC5\\r\\n0YLQuCDQv9C+INCw0LTRgNC10YHRgyZuYnNwOzxhIGhyZWY9Imh0dHBzOi8vbWFpbC5yb3NrdmFu\\r\\ndG9yaXVtLnJ1LyI+aHR0cHM6Ly9tYWlsLnJvc2t2YW50b3JpdW0ucnU8L2E+PC9wPjxwPjIuINCS\\r\\n0LLQtdGB0YLQuCDQu9C40YfQvdGL0LUg0YPRh9C10YLQvdGL0LUg0LTQsNC90L3Ri9C1LCDRg9C6\\r\\n0LDQt9Cw0L3QvdGL0LUg0L3QuNC20LU6PC9wPjxwPtCb0L7Qs9C40L06IDxzdHJvbmc+dmFpdHNl\\r\\nbEByb2Jva3ZhbnR1bS5ydTwvc3Ryb25nPjwvcD48cD7Qn9Cw0YDQvtC70Yw6IDxzdHJvbmc+SUVX\\r\\nIzk2Mmg8L3N0cm9uZz48L3A+PHA+My4g0KHQvtC30LTQsNGC0Ywg0L3QvtCy0L7QtSDRgdC+0L7Q\\r\\nsdGJ0LXQvdC40LUg0YEg0LvRjtCx0YvQvCDRgtC10LrRgdGC0L7QvCDQuCDQvtGC0L/RgNCw0LLQ\\r\\nuNGC0Ywg0LXQs9C+INC/0L4g0LDQtNGA0LXRgdGDJm5ic3A7PGEgaHJlZj0ibWFpbHRvOnJvYm9A\\r\\ncm9za3ZhbnRvcml1bS5ydSI+cm9ib0Byb3NrdmFudG9yaXVtLnJ1PC9hPiZuYnNwO9GBINGC0LXQ\\r\\nvNC+0LkgItCi0LXRgdGCIjwvcD48L2Rpdj4=\\r\\n\\r\\n--===============4378817451775138699==--\\r\\n.\\r\\n'\n",
            "reply: b'250 2.0.0 Ok: queued as DC2353BA0EB3\\r\\n'\n",
            "reply: retcode (250); Msg: b'2.0.0 Ok: queued as DC2353BA0EB3'\n",
            "data: (250, b'2.0.0 Ok: queued as DC2353BA0EB3')\n",
            "send: 'quit\\r\\n'\n",
            "reply: b'221 2.0.0 Bye\\r\\n'\n",
            "reply: retcode (221); Msg: b'2.0.0 Bye'\n"
          ],
          "name": "stderr"
        },
        {
          "output_type": "execute_result",
          "data": {
            "text/plain": [
              "(221, b'2.0.0 Bye')"
            ]
          },
          "metadata": {
            "tags": []
          },
          "execution_count": 13
        }
      ]
    }
  ]
}